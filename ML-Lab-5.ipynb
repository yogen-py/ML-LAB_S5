{
 "cells": [
  {
   "cell_type": "code",
   "execution_count": 1,
   "id": "3f805cfb",
   "metadata": {},
   "outputs": [],
   "source": [
    "import pandas as pd\n",
    "import numpy as np\n",
    "import matplotlib.pyplot as plt\n",
    "dfcases = pd.read_csv(\"https://api.vitaldb.net/cases\")  # clinical information\n",
    "dfTrack = pd.read_csv(\"https://api.vitaldb.net/trks\")  # track list\n",
    "dflabs = pd.read_csv('https://api.vitaldb.net/labs')  # laboratory results\n"
   ]
  },
  {
   "cell_type": "code",
   "execution_count": 12,
   "id": "628ccd71",
   "metadata": {},
   "outputs": [],
   "source": [
    "from sklearn.model_selection import train_test_split\n",
    "from sklearn.linear_model import LinearRegression\n",
    "from sklearn.metrics import mean_squared_error,mean_absolute_percentage_error,r2_score\n"
   ]
  },
  {
   "cell_type": "markdown",
   "id": "2bbb4e9f",
   "metadata": {},
   "source": [
    "# A1. If your project deals with a regression problem, please use one attribute of your dataset (X_train) along with the target values (y_train) for training a linear regression model."
   ]
  },
  {
   "cell_type": "code",
   "execution_count": 8,
   "id": "2f04e25d",
   "metadata": {},
   "outputs": [],
   "source": [
    "def a1():\n",
    "    X = dfcases[['weight','age']]\n",
    "    y = dfcases['bmi']\n",
    "\n",
    "    X_train, X_test, y_train, y_test = train_test_split(X, y, test_size=0.2, random_state=0)\n",
    "\n",
    "    reg = LinearRegression().fit(X_train, y_train)\n",
    "\n",
    "    y_train_pred = reg.predict(X_train)\n",
    "    X = dfcases[['weight']]  # This will be the predictor\n",
    "    y = dfcases['height']  # This will be the target\n",
    "    # Split into training and test sets\n",
    "    X_train, X_test, y_train, y_test = train_test_split(X, y, test_size=0.2, random_state=0)\n",
    "    # Train the regression model\n",
    "    reg = LinearRegression().fit(X_train, y_train)\n",
    "    # Predict on the training data\n",
    "    y_train_pred = reg.predict(X_train)\n",
    "    return y_train, y_train_pred,X_train, X_test, y_train, y_test\n"
   ]
  },
  {
   "cell_type": "code",
   "execution_count": 9,
   "id": "67ffb3a9",
   "metadata": {},
   "outputs": [
    {
     "data": {
      "text/plain": [
       "(2951    169.8\n",
       " 5463    155.6\n",
       " 3270    159.7\n",
       " 5700    166.8\n",
       " 3553    164.6\n",
       "         ...  \n",
       " 4931    150.9\n",
       " 3264    154.0\n",
       " 1653    153.8\n",
       " 2607    152.9\n",
       " 2732    153.0\n",
       " Name: height, Length: 5110, dtype: float64,\n",
       " array([168.84768921, 157.1988267 , 162.68064435, ..., 160.77179714,\n",
       "        154.36002828, 159.15661872]),\n",
       "       weight\n",
       " 2951    75.0\n",
       " 5463    51.2\n",
       " 3270    62.4\n",
       " 5700    48.3\n",
       " 3553    56.6\n",
       " ...      ...\n",
       " 4931    49.6\n",
       " 3264    60.3\n",
       " 1653    58.5\n",
       " 2607    45.4\n",
       " 2732    55.2\n",
       " \n",
       " [5110 rows x 1 columns],\n",
       "       weight\n",
       " 4551   49.90\n",
       " 2369   45.60\n",
       " 5586   59.30\n",
       " 472    85.75\n",
       " 880    51.90\n",
       " ...      ...\n",
       " 4544   84.20\n",
       " 3131   49.90\n",
       " 4713   57.90\n",
       " 5727   70.80\n",
       " 3791   60.10\n",
       " \n",
       " [1278 rows x 1 columns],\n",
       " 2951    169.8\n",
       " 5463    155.6\n",
       " 3270    159.7\n",
       " 5700    166.8\n",
       " 3553    164.6\n",
       "         ...  \n",
       " 4931    150.9\n",
       " 3264    154.0\n",
       " 1653    153.8\n",
       " 2607    152.9\n",
       " 2732    153.0\n",
       " Name: height, Length: 5110, dtype: float64,\n",
       " 4551    166.0\n",
       " 2369    153.7\n",
       " 5586    171.3\n",
       " 472     183.0\n",
       " 880     176.0\n",
       "         ...  \n",
       " 4544    177.0\n",
       " 3131    152.2\n",
       " 4713    149.1\n",
       " 5727    170.0\n",
       " 3791    165.4\n",
       " Name: height, Length: 1278, dtype: float64)"
      ]
     },
     "execution_count": 9,
     "metadata": {},
     "output_type": "execute_result"
    }
   ],
   "source": [
    "a1()"
   ]
  },
  {
   "cell_type": "markdown",
   "id": "be06b794",
   "metadata": {},
   "source": [
    "#Calculate MSE, RMSE, MAPE and R2 scores for prediction made by the trained model in A1.Perform prediction on the test data and compare the metric values between train and test set.\n"
   ]
  },
  {
   "cell_type": "code",
   "execution_count": 13,
   "id": "7fb96e20",
   "metadata": {},
   "outputs": [],
   "source": [
    "def a2():\n",
    "    y_train, y_train_pred,X_train, X_test, y_train, y_test = a1()\n",
    "    mse_train = mean_squared_error(y_train, y_train_pred)  # Calculating MSE\n",
    "    rmse_train = np.sqrt(mse_train)  # Calculating RMSE\n",
    "    r2_train = r2_score(y_train, y_train_pred)  # Calculating R^2\n",
    "    mape_train = mean_absolute_percentage_error(y_train, y_train_pred)# Calculating MAPE for training data\n",
    "\n",
    "    reg = LinearRegression().fit(X_train, y_train)\n",
    "\n",
    "    y_test_pred = reg.predict(X_test)\n",
    "    mse_test = mean_squared_error(y_test, y_test_pred) # Calculating MSE for test data\n",
    "    rmse_test = np.sqrt(mse_test) # Calculating RMSE for test data\n",
    "    r2_test = r2_score(y_test, y_test_pred) # Calculating R^2 for test data\n",
    "    mape_test = mean_absolute_percentage_error(y_test, y_test_pred) # Calculating MAPE for test data\n",
    "    return mse_train, rmse_train, r2_train, mape_train, mse_test, rmse_test, r2_test, mape_test\n"
   ]
  },
  {
   "cell_type": "code",
   "execution_count": 14,
   "id": "01601058",
   "metadata": {},
   "outputs": [
    {
     "data": {
      "text/plain": [
       "(62.82860792600604,\n",
       " 7.926449894246859,\n",
       " 0.353069418273261,\n",
       " 0.038002522349009235,\n",
       " 66.04808520598424,\n",
       " 8.126997305646425,\n",
       " 0.35252536637618237,\n",
       " 0.03900040387550203)"
      ]
     },
     "execution_count": 14,
     "metadata": {},
     "output_type": "execute_result"
    }
   ],
   "source": [
    "a2()"
   ]
  },
  {
   "cell_type": "markdown",
   "id": "c1d763ab",
   "metadata": {},
   "source": []
  }
 ],
 "metadata": {
  "kernelspec": {
   "display_name": "Python 3 (ipykernel)",
   "language": "python",
   "name": "python3"
  },
  "language_info": {
   "codemirror_mode": {
    "name": "ipython",
    "version": 3
   },
   "file_extension": ".py",
   "mimetype": "text/x-python",
   "name": "python",
   "nbconvert_exporter": "python",
   "pygments_lexer": "ipython3",
   "version": "3.11.5"
  }
 },
 "nbformat": 4,
 "nbformat_minor": 5
}
