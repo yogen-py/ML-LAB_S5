{
 "cells": [
  {
   "cell_type": "markdown",
   "id": "ebc2afe9",
   "metadata": {},
   "source": [
    "# 1. Write a program to count the number of vowels and consonants in an input String\n"
   ]
  },
  {
   "cell_type": "code",
   "execution_count": 6,
   "id": "e797580a",
   "metadata": {},
   "outputs": [],
   "source": [
    "def find_vowels_and_consonants(input_strings):\n",
    "    vowels = \"aeiouAEIOU\"\n",
    "    vowels_count = 0\n",
    "    consonants = \"qwrtypsdfghjklzxcvbnmQWRTYPSDFGHJKLZXCVBNM\"\n",
    "    consonants_count = 0\n",
    "    for char in input_strings:\n",
    "        if char in vowels:\n",
    "            vowels_count += 1\n",
    "        elif char in consonants:\n",
    "            consonants_count += 1\n",
    "    return vowels_count, consonants_count"
   ]
  },
  {
   "cell_type": "markdown",
   "id": "a952aecf",
   "metadata": {},
   "source": [
    "\n",
    "# 2. Write a program that accepts two matrices A and B as input and returns their product AB.\n",
    "Check if A & B are multipliable; if not, return error message.\n",
    "\n",
    "\n"
   ]
  },
  {
   "cell_type": "code",
   "execution_count": 1,
   "id": "1542ddc0",
   "metadata": {},
   "outputs": [],
   "source": [
    "import numpy as np\n",
    "\n",
    "def matrix_multiplication(A, B):\n",
    "  if len(A[0]) != len(B):\n",
    "    return \"Error: matrix not multipliable\"\n",
    "  else:\n",
    "    rows = len(A)\n",
    "    cols = len(B[0])\n",
    "    C = [[0 for _ in range(cols)] for _ in range(rows)]\n",
    "    for i in range(rows):\n",
    "      for j in range(cols):\n",
    "        for k in range(len(B)):\n",
    "          C[i][j] += A[i][k]*B[k][j]\n",
    "\n",
    "\n",
    "    return C\n",
    "\n",
    "\n"
   ]
  },
  {
   "cell_type": "markdown",
   "id": "78b5fa5f",
   "metadata": {},
   "source": [
    "# Write a program to find the number of common elements between two lists. The lists contain integers.\n"
   ]
  },
  {
   "cell_type": "code",
   "execution_count": 4,
   "id": "2441ee28",
   "metadata": {},
   "outputs": [],
   "source": [
    "def common_counter(list1, list2):\n",
    "    common_elements_count = 0\n",
    "    for i in list1 and list2:\n",
    "      if i in list1 and list2:\n",
    "        common_elements_count +=1\n",
    "\n",
    "    return common_elements_count"
   ]
  },
  {
   "cell_type": "markdown",
   "id": "a05ea604",
   "metadata": {},
   "source": [
    "# Write a program that accepts a matrix as input and returns its transpose"
   ]
  },
  {
   "cell_type": "code",
   "execution_count": 2,
   "id": "f1cfe2bd",
   "metadata": {},
   "outputs": [],
   "source": [
    "def transpose(matrix):\n",
    "  rows = len(matrix)\n",
    "  cols = len(matrix[0])\n",
    "  transpose_matrix = [[0 for _ in range(rows)] for _ in range(cols)]\n",
    "  for i in range(rows):\n",
    "      for j in range(cols):\n",
    "        transpose_matrix[j][i] = matrix[i][j]\n",
    "  return transpose_matrix"
   ]
  },
  {
   "cell_type": "code",
   "execution_count": 7,
   "id": "707714f0",
   "metadata": {},
   "outputs": [
    {
     "name": "stdout",
     "output_type": "stream",
     "text": [
      "[[1, 4, 7], [2, 5, 8], [3, 6, 9]]\n",
      "[[58, 64], [139, 154]]\n",
      "[[25, 28], [57, 64], [89, 100]]\n",
      "0\n",
      "Vowels: 3\n",
      "Consonants: 7\n"
     ]
    }
   ],
   "source": [
    "def main():\n",
    "  matrix = [[1, 2, 3], [4, 5, 6], [7, 8, 9]]\n",
    "  transpose_matrix = transpose(matrix)\n",
    "  print(transpose_matrix)\n",
    "  matrix1 = [[1, 2, 3], [4, 5, 6]]\n",
    "  matrix2 = [[7, 8], [9, 10], [11, 12]]\n",
    "  print(matrix_multiplication(matrix1, matrix2))\n",
    "  matrix3 = [[1, 2], [3, 4], [5, 6]]\n",
    "  matrix4 = [[7, 8], [9, 10]]\n",
    "  print(matrix_multiplication(matrix3, matrix4))\n",
    "  list1 = [1, 2, 3, 4, 5]\n",
    "  list2 = [6, 7, 8, 9, 10]\n",
    "  print(common_counter(list1, list2))\n",
    "  input_string = \"Hello, World!\"\n",
    "  vowels_count, consonants_count = find_vowels_and_consonants(input_string)\n",
    "  print(\"Vowels:\", vowels_count)\n",
    "  print(\"Consonants:\", consonants_count)\n",
    "\n",
    "if __name__ == \"__main__\":\n",
    "  main()\n",
    "\n"
   ]
  },
  {
   "cell_type": "code",
   "execution_count": null,
   "id": "5c6e49dc",
   "metadata": {},
   "outputs": [],
   "source": []
  }
 ],
 "metadata": {
  "kernelspec": {
   "display_name": "Python 3",
   "language": "python",
   "name": "python3"
  },
  "language_info": {
   "codemirror_mode": {
    "name": "ipython",
    "version": 3
   },
   "file_extension": ".py",
   "mimetype": "text/x-python",
   "name": "python",
   "nbconvert_exporter": "python",
   "pygments_lexer": "ipython3",
   "version": "3.11.5"
  }
 },
 "nbformat": 4,
 "nbformat_minor": 5
}
