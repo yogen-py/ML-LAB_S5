{
 "cells": [
  {
   "cell_type": "code",
   "execution_count": 1,
   "metadata": {},
   "outputs": [],
   "source": [
    "import pandas as pd\n",
    "import pandas as pd\n",
    "import numpy as np\n",
    "\n",
    "import matplotlib.pyplot as plt"
   ]
  },
  {
   "cell_type": "code",
   "execution_count": 2,
   "id": "345a959f",
   "metadata": {},
   "outputs": [],
   "source": [
    "dfcases = pd.read_csv(\"https://api.vitaldb.net/cases\")  # clinical information\n",
    "dfTrack = pd.read_csv(\"https://api.vitaldb.net/trks\")  # track list\n",
    "dflabs = pd.read_csv('https://api.vitaldb.net/labs')  # laboratory results"
   ]
  },
  {
   "cell_type": "markdown",
   "id": "a1ee8329",
   "metadata": {},
   "source": [
    "# A1. Write your own functions for the following modules:\n",
    "a) Summation unit\n",
    "\n",
    "b) Activation Unit – Step, Bipolar Step, Sigmoid, TanH, ReLU and Leaky ReLU functions\n",
    "\n",
    "\n",
    "c) Comparator unit for Error calculation"
   ]
  },
  {
   "cell_type": "code",
   "execution_count": null,
   "id": "bcb43298",
   "metadata": {},
   "outputs": [],
   "source": [
    "def summation(inputs, weights,bias):\n",
    "    return sum(x * w for x, w in zip(inputs, weights)) + bias\n",
    "\n",
    "def step(x):\n",
    "    return 1 if x > 0 else 0\n",
    "\n",
    "def bipolar_step(x):\n",
    "    return 1 if x > 0 else -1\n",
    "\n",
    "def sigmoid(x):\n",
    "    return 1 / (1 + np.exp(-x))\n",
    "\n",
    "def tanh(x):\n",
    "    return np.tanh(x)\n",
    "\n",
    "def relu(x):\n",
    "    return max(0, x)\n",
    "\n",
    "def leaky_relu(x, alpha=0.01):\n",
    "    return max(alpha * x, x)\n",
    "\n",
    "def error_comparator(predictions, targets):\n",
    "    return sum((p - t) ** 2 for p, t in zip(predictions, targets))\n",
    "\n",
    "def activation_function(x, function=\"relu\", threshold=0, alpha=0.01):\n",
    "    if function == \"step\":\n",
    "        return step(x)\n",
    "    elif function == \"bipolar_step\":\n",
    "        return bipolar_step(x)\n",
    "    elif function == \"sigmoid\":\n",
    "        return sigmoid(x)\n",
    "    elif function == \"tanh\":\n",
    "        return tanh(x)\n",
    "    elif function == \"relu\":\n",
    "        return relu(x)\n",
    "    elif function == \"leaky_relu\":\n",
    "        return leaky_relu(x, alpha=alpha)\n",
    "    else:\n",
    "        raise ValueError(f\"Unknown activation function: {function}\")"
   ]
  }
 ],
 "metadata": {
  "kernelspec": {
   "display_name": "Python 3 (ipykernel)",
   "language": "python",
   "name": "python3"
  },
  "language_info": {
   "codemirror_mode": {
    "name": "ipython",
    "version": 3
   },
   "file_extension": ".py",
   "mimetype": "text/x-python",
   "name": "python",
   "nbconvert_exporter": "python",
   "pygments_lexer": "ipython3",
   "version": "3.11.5"
  }
 },
 "nbformat": 4,
 "nbformat_minor": 5
}
