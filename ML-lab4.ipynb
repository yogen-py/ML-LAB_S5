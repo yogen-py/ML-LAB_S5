{
 "cells": [
  {
   "cell_type": "code",
   "execution_count": 5,
   "id": "3587b9b4",
   "metadata": {},
   "outputs": [],
   "source": [
    "import pandas as pd\n",
    "\n",
    "dfCases = pd.read_csv(\"https://api.vitaldb.net/cases\")  # clinical information\n",
    "dfTrack = pd.read_csv(\"https://api.vitaldb.net/trks\")  # track list\n",
    "dflabs = pd.read_csv('https://api.vitaldb.net/labs')  # laboratory results"
   ]
  },
  {
   "cell_type": "markdown",
   "id": "228c1c79",
   "metadata": {},
   "source": [
    "# A1. Please evaluate confusion matrix for your classification problem. From confusion matrix, the other performance metrics such as precision, recall and F1-Score measures for both training and test data. Based on your observations, infer the models learning outcome (underfit / regularfit / overfit).\n"
   ]
  },
  {
   "cell_type": "code",
   "execution_count": 6,
   "id": "7299b184",
   "metadata": {},
   "outputs": [],
   "source": [
    "from sklearn.model_selection import train_test_split\n",
    "from sklearn.neighbors import KNeighborsClassifier\n",
    "from sklearn.metrics import confusion_matrix, precision_score, recall_score, f1_score\n",
    "\n",
    "def a1():\n",
    "    #create a new column 'op_duration' which is the difference between 'opend' and 'opstart'\n",
    "    dfCases[\"op_duration\"] = dfCases[\"opend\"] - dfCases[\"opstart\"]\n",
    "    threshold_minutes = 240*60\n",
    "    #create a new column 'surgery_duration_class' which is 'long' if 'op_duration' is greater than 'threshold_minutes' else 'short'\n",
    "    dfCases['surgery_duration_class'] = dfCases['op_duration'].apply(lambda x: 'long' if x > threshold_minutes else 'short')\n",
    "    X = dfCases[['opstart', 'opend', 'op_duration']]\n",
    "    y = dfCases['surgery_duration_class']\n",
    "    #split the data into training and testing sets\n",
    "    X_train, X_test, y_train, y_test = train_test_split(X, y, test_size=0.3, random_state=42)\n",
    "    #create a KNeighborsClassifier object\n",
    "    neigh = KNeighborsClassifier(n_neighbors=3)\n",
    "    neigh.fit(X_train, y_train)\n",
    "    y_train_pred = neigh.predict(X_train)\n",
    "    y_test_pred = neigh.predict(X_test)\n",
    "    #calculate the confusion matrix for training and testing sets\n",
    "    conf_matrix_train = confusion_matrix(y_train, y_train_pred)\n",
    "    \n",
    "    conf_matrix_test = confusion_matrix(y_test, y_test_pred)\n",
    "    #calculate the precision, recall, and f1 score for training and testing sets\n",
    "    precision_train = precision_score(y_train, y_train_pred, pos_label='long')\n",
    "    recall_train = recall_score(y_train, y_train_pred, pos_label='long')\n",
    "    f1_train = f1_score(y_train, y_train_pred, pos_label='long')\n",
    "\n",
    "    precision_test = precision_score(y_test, y_test_pred, pos_label='long')\n",
    "    recall_test = recall_score(y_test, y_test_pred, pos_label='long')\n",
    "    f1_test = f1_score(y_test, y_test_pred, pos_label='long')\n",
    "    return conf_matrix_train, conf_matrix_test, precision_train, recall_train, f1_train, precision_test, recall_test, f1_test\n"
   ]
  },
  {
   "cell_type": "code",
   "execution_count": 7,
   "id": "653456fa",
   "metadata": {},
   "outputs": [
    {
     "name": "stdout",
     "output_type": "stream",
     "text": [
      "(array([[ 640,    1],\n",
      "       [   1, 3829]], dtype=int64), array([[ 263,    3],\n",
      "       [   0, 1651]], dtype=int64), 0.9984399375975039, 0.9984399375975039, 0.9984399375975039, 1.0, 0.9887218045112782, 0.9943289224952742)\n"
     ]
    }
   ],
   "source": [
    "print(a1())"
   ]
  },
  {
   "cell_type": "markdown",
   "id": "1b7cd14e",
   "metadata": {},
   "source": []
  }
 ],
 "metadata": {
  "kernelspec": {
   "display_name": "Python 3 (ipykernel)",
   "language": "python",
   "name": "python3"
  },
  "language_info": {
   "codemirror_mode": {
    "name": "ipython",
    "version": 3
   },
   "file_extension": ".py",
   "mimetype": "text/x-python",
   "name": "python",
   "nbconvert_exporter": "python",
   "pygments_lexer": "ipython3",
   "version": "3.11.5"
  }
 },
 "nbformat": 4,
 "nbformat_minor": 5
}
